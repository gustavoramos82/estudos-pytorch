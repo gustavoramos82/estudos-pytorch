{
  "nbformat": 4,
  "nbformat_minor": 0,
  "metadata": {
    "colab": {
      "provenance": [],
      "authorship_tag": "ABX9TyOi4kgFtNgM/KiI2JA3AHqE",
      "include_colab_link": true
    },
    "kernelspec": {
      "name": "python3",
      "display_name": "Python 3"
    },
    "language_info": {
      "name": "python"
    }
  },
  "cells": [
    {
      "cell_type": "markdown",
      "metadata": {
        "id": "view-in-github",
        "colab_type": "text"
      },
      "source": [
        "<a href=\"https://colab.research.google.com/github/gustavoramos82/estudos-pytorch/blob/main/Estudos_pytorch.ipynb\" target=\"_parent\"><img src=\"https://colab.research.google.com/assets/colab-badge.svg\" alt=\"Open In Colab\"/></a>"
      ]
    },
    {
      "cell_type": "markdown",
      "source": [
        "# Sobre blibiotecas de redes neurais\n",
        "\n",
        "As duas principais utilizadas: **tensorflow** e **pytorch**\n",
        "- apesar de ser mais complicado utilizar, pytorch é mais flexivel"
      ],
      "metadata": {
        "id": "XFt53Ra4i-FC"
      }
    },
    {
      "cell_type": "code",
      "execution_count": 12,
      "metadata": {
        "id": "rhkqCuF7i3_Y"
      },
      "outputs": [],
      "source": [
        "import torch\n",
        "import numpy as np"
      ]
    },
    {
      "cell_type": "markdown",
      "source": [
        "## Escalar"
      ],
      "metadata": {
        "id": "4lbhf-wwjkes"
      }
    },
    {
      "cell_type": "code",
      "source": [
        "escalar = torch.tensor(10) # como é um escalar não tem nnehuma dimensão e shape\n",
        "escalar"
      ],
      "metadata": {
        "colab": {
          "base_uri": "https://localhost:8080/"
        },
        "id": "uPrnz-GMjhrz",
        "outputId": "009db62f-2874-49e8-f75d-b6a8f3684de9"
      },
      "execution_count": 2,
      "outputs": [
        {
          "output_type": "execute_result",
          "data": {
            "text/plain": [
              "tensor(10)"
            ]
          },
          "metadata": {},
          "execution_count": 2
        }
      ]
    },
    {
      "cell_type": "code",
      "source": [
        "escalar.ndim"
      ],
      "metadata": {
        "colab": {
          "base_uri": "https://localhost:8080/"
        },
        "id": "TCLqNW5sjtMO",
        "outputId": "5d614f85-d686-43ac-a374-1b5fa3b95eb7"
      },
      "execution_count": 3,
      "outputs": [
        {
          "output_type": "execute_result",
          "data": {
            "text/plain": [
              "0"
            ]
          },
          "metadata": {},
          "execution_count": 3
        }
      ]
    },
    {
      "cell_type": "code",
      "source": [
        "escalar.shape"
      ],
      "metadata": {
        "colab": {
          "base_uri": "https://localhost:8080/"
        },
        "id": "ti_8kao7jw-o",
        "outputId": "fd953a7a-fcb3-4556-de8d-c2bf7d7827b0"
      },
      "execution_count": 4,
      "outputs": [
        {
          "output_type": "execute_result",
          "data": {
            "text/plain": [
              "torch.Size([])"
            ]
          },
          "metadata": {},
          "execution_count": 4
        }
      ]
    },
    {
      "cell_type": "code",
      "source": [
        "escalar.item()"
      ],
      "metadata": {
        "colab": {
          "base_uri": "https://localhost:8080/"
        },
        "id": "n2Q7kyVekcnH",
        "outputId": "e64efccb-0506-45e8-9d41-d0889c5c354a"
      },
      "execution_count": 5,
      "outputs": [
        {
          "output_type": "execute_result",
          "data": {
            "text/plain": [
              "10"
            ]
          },
          "metadata": {},
          "execution_count": 5
        }
      ]
    },
    {
      "cell_type": "markdown",
      "source": [
        "## Vetor\n",
        "\n",
        "nesse caso o vetor ele tem dimensão"
      ],
      "metadata": {
        "id": "tR8QDyq7km-N"
      }
    },
    {
      "cell_type": "code",
      "source": [
        "vetor = torch.tensor([5,10])\n",
        "vetor"
      ],
      "metadata": {
        "colab": {
          "base_uri": "https://localhost:8080/"
        },
        "id": "NFj1yKhhkliz",
        "outputId": "7d429c40-cb42-4a8a-bb8a-f6ed8f6d5a76"
      },
      "execution_count": 7,
      "outputs": [
        {
          "output_type": "execute_result",
          "data": {
            "text/plain": [
              "tensor([ 5, 10])"
            ]
          },
          "metadata": {},
          "execution_count": 7
        }
      ]
    },
    {
      "cell_type": "code",
      "source": [
        "vetor.ndim"
      ],
      "metadata": {
        "colab": {
          "base_uri": "https://localhost:8080/"
        },
        "id": "EfFLNyD0k7MX",
        "outputId": "a3ed29cb-e554-4a05-97da-a49e5be0bbef"
      },
      "execution_count": 8,
      "outputs": [
        {
          "output_type": "execute_result",
          "data": {
            "text/plain": [
              "1"
            ]
          },
          "metadata": {},
          "execution_count": 8
        }
      ]
    },
    {
      "cell_type": "code",
      "source": [
        "vetor.shape"
      ],
      "metadata": {
        "colab": {
          "base_uri": "https://localhost:8080/"
        },
        "id": "6IkMbkvfk-VH",
        "outputId": "634fd639-dc9d-4e5f-f92c-6444f44b3db0"
      },
      "execution_count": 9,
      "outputs": [
        {
          "output_type": "execute_result",
          "data": {
            "text/plain": [
              "torch.Size([2])"
            ]
          },
          "metadata": {},
          "execution_count": 9
        }
      ]
    },
    {
      "cell_type": "markdown",
      "source": [
        "A dimensão armazena os valores, enquanto  o shape diz quantos valores tem na quela dimensão"
      ],
      "metadata": {
        "id": "bhk2RBMXlEpM"
      }
    },
    {
      "cell_type": "code",
      "source": [
        "e1 = torch.tensor(6)\n",
        "e2 = torch.tensor(8)\n",
        "\n",
        "vetor_2 = torch.tensor([e1,e2])\n",
        "vetor_2"
      ],
      "metadata": {
        "colab": {
          "base_uri": "https://localhost:8080/"
        },
        "id": "Vp8IU6WglRGE",
        "outputId": "ae41ad4b-8576-4ff2-8fc8-d064927a5a06"
      },
      "execution_count": 10,
      "outputs": [
        {
          "output_type": "execute_result",
          "data": {
            "text/plain": [
              "tensor([6, 8])"
            ]
          },
          "metadata": {},
          "execution_count": 10
        }
      ]
    },
    {
      "cell_type": "code",
      "source": [
        "# comparando com o numpy\n",
        "array = np.array([6,8])\n",
        "array[0]\n"
      ],
      "metadata": {
        "colab": {
          "base_uri": "https://localhost:8080/"
        },
        "id": "e_jdrWsIlvm4",
        "outputId": "7a93f851-7108-4a53-f0c4-17b433057c13"
      },
      "execution_count": 13,
      "outputs": [
        {
          "output_type": "execute_result",
          "data": {
            "text/plain": [
              "np.int64(6)"
            ]
          },
          "metadata": {},
          "execution_count": 13
        }
      ]
    },
    {
      "cell_type": "code",
      "source": [
        "type(array),type(vetor_2)"
      ],
      "metadata": {
        "colab": {
          "base_uri": "https://localhost:8080/"
        },
        "id": "G4_NIafJmP_7",
        "outputId": "b863a1a7-5a7e-4f6f-a662-fb5f9fae2978"
      },
      "execution_count": 14,
      "outputs": [
        {
          "output_type": "execute_result",
          "data": {
            "text/plain": [
              "(numpy.ndarray, torch.Tensor)"
            ]
          },
          "metadata": {},
          "execution_count": 14
        }
      ]
    },
    {
      "cell_type": "markdown",
      "source": [
        "## Matriz\n",
        "\n",
        "a matriz vai ser um conjunto de vetores"
      ],
      "metadata": {
        "id": "JmVTq_a8miui"
      }
    },
    {
      "cell_type": "code",
      "source": [
        "v1 = [5,10]\n",
        "v2 = [3,16]\n",
        "\n",
        "matriz = torch.tensor([v1,v2]) # pode construir a matriz mais diretamente\n",
        "matriz"
      ],
      "metadata": {
        "colab": {
          "base_uri": "https://localhost:8080/"
        },
        "id": "H-vGeqW3mbaU",
        "outputId": "0d0a8bd1-ec3d-4fcf-b869-2808aa252019"
      },
      "execution_count": 15,
      "outputs": [
        {
          "output_type": "execute_result",
          "data": {
            "text/plain": [
              "tensor([[ 5, 10],\n",
              "        [ 3, 16]])"
            ]
          },
          "metadata": {},
          "execution_count": 15
        }
      ]
    },
    {
      "cell_type": "code",
      "source": [
        "matriz.ndim"
      ],
      "metadata": {
        "colab": {
          "base_uri": "https://localhost:8080/"
        },
        "id": "IVxlCUoLm3ko",
        "outputId": "4c9be0b3-42c7-41e3-ea11-bd91195e3d6c"
      },
      "execution_count": 16,
      "outputs": [
        {
          "output_type": "execute_result",
          "data": {
            "text/plain": [
              "2"
            ]
          },
          "metadata": {},
          "execution_count": 16
        }
      ]
    },
    {
      "cell_type": "code",
      "source": [
        "matriz.shape"
      ],
      "metadata": {
        "colab": {
          "base_uri": "https://localhost:8080/"
        },
        "id": "T4CouaT0nCOX",
        "outputId": "7fca709c-9e51-474e-9192-d29eb9bcccff"
      },
      "execution_count": 17,
      "outputs": [
        {
          "output_type": "execute_result",
          "data": {
            "text/plain": [
              "torch.Size([2, 2])"
            ]
          },
          "metadata": {},
          "execution_count": 17
        }
      ]
    },
    {
      "cell_type": "markdown",
      "source": [
        "## Tensor"
      ],
      "metadata": {
        "id": "RItOvdmvoAPx"
      }
    },
    {
      "cell_type": "code",
      "source": [
        "tensor = torch.tensor ([\n",
        "    [[1,2,3],[7,2,-1]],\n",
        "    [[-1,5,3],[12,-10,8]]\n",
        "])"
      ],
      "metadata": {
        "id": "NcUBmznSoCPn"
      },
      "execution_count": 18,
      "outputs": []
    },
    {
      "cell_type": "code",
      "source": [
        "tensor.ndim"
      ],
      "metadata": {
        "colab": {
          "base_uri": "https://localhost:8080/"
        },
        "id": "tnHuy2o6rPMM",
        "outputId": "7a33263c-f463-4b46-94b6-81be584ffbb8"
      },
      "execution_count": 19,
      "outputs": [
        {
          "output_type": "execute_result",
          "data": {
            "text/plain": [
              "3"
            ]
          },
          "metadata": {},
          "execution_count": 19
        }
      ]
    },
    {
      "cell_type": "code",
      "source": [
        "tensor.shape"
      ],
      "metadata": {
        "colab": {
          "base_uri": "https://localhost:8080/"
        },
        "id": "JajS06-KrRcR",
        "outputId": "f85f308d-ee54-421a-caa7-8597e55385e9"
      },
      "execution_count": 20,
      "outputs": [
        {
          "output_type": "execute_result",
          "data": {
            "text/plain": [
              "torch.Size([2, 2, 3])"
            ]
          },
          "metadata": {},
          "execution_count": 20
        }
      ]
    }
  ]
}